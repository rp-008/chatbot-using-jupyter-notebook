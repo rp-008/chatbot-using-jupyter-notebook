{
 "cells": [
  {
   "cell_type": "code",
   "execution_count": null,
   "id": "1a61d347",
   "metadata": {},
   "outputs": [],
   "source": [
    "import numpy as np \n",
    "import nltk \n",
    "import string \n",
    "import random "
   ]
  },
  {
   "cell_type": "code",
   "execution_count": null,
   "id": "355ac0cc",
   "metadata": {},
   "outputs": [],
   "source": []
  },
  {
   "cell_type": "code",
   "execution_count": null,
   "id": "7ec485ef",
   "metadata": {},
   "outputs": [],
   "source": [
    "f=open('chatbot.txt','r',errors = 'ignore')\n",
    "raw_doc=f.read()\n",
    "raw_doc=raw_doc.lower() #Converts text to lowercase\n",
    "nltk.download('punkt') #Using the Punkt tokenizer\n",
    "nltk.download('‘wordnet') #Using the WordNet dictionary\n",
    "sent_tokens = nltk.sent_tokenize(raw_doc) #Converts doc to list of sentences\n",
    "word_tokens = nltk.word_tokenize(raw_doc) #Converts doc to list of words"
   ]
  },
  {
   "cell_type": "code",
   "execution_count": null,
   "id": "1d4757bf",
   "metadata": {},
   "outputs": [],
   "source": [
    "sent_tokens[:2]"
   ]
  },
  {
   "cell_type": "code",
   "execution_count": null,
   "id": "0a22e961",
   "metadata": {},
   "outputs": [],
   "source": [
    "sent_tokens[:2]"
   ]
  },
  {
   "cell_type": "code",
   "execution_count": null,
   "id": "48b7caf5",
   "metadata": {},
   "outputs": [],
   "source": [
    "text preprocessing"
   ]
  },
  {
   "cell_type": "code",
   "execution_count": null,
   "id": "efb754f1",
   "metadata": {},
   "outputs": [],
   "source": [
    "\n",
    "lemmer = nltk.stem.WordNetLemmatizer()\n",
    "#WordNet is a semantically-oriented dictionary of English included in NLTK.\n",
    "def LemTokens(tokens):\n",
    "return [lemmer.lemmatize(token) for token in tokens]\n",
    "remove_punct_dict = dict((ord(punct), None) for punct in string.punctuation)\n",
    "def LemNormalize(text):\n",
    "return LemTokens(nltk.word_tokenize(text.lower().translate(remove_punct_dict)))\n",
    "\n"
   ]
  },
  {
   "cell_type": "code",
   "execution_count": null,
   "id": "49d8d793",
   "metadata": {},
   "outputs": [],
   "source": [
    "\n",
    "response generation :\n"
   ]
  },
  {
   "cell_type": "code",
   "execution_count": null,
   "id": "bf980454",
   "metadata": {},
   "outputs": [],
   "source": [
    "from sklearn.feature_extraction.text import TfidfVectorizer\n",
    "from sklearn.metrics.pairwise import cosine_similarity"
   ]
  },
  {
   "cell_type": "code",
   "execution_count": null,
   "id": "ef4e157f",
   "metadata": {},
   "outputs": [],
   "source": [
    "def response=(user_response):\n",
    "    robo1_response=\"\"\n",
    "    TfidfVec = TfidfVectorizer(tokenizer=LemNormalize, stop_words='english')\n",
    "    tfidf = TfidfVec.fit_transform(sent_tokens)\n",
    "    vals = cosine_similarity(tfidf[-1], tfidf)\n",
    "    idx=vals.argsort()[0][-2]\n",
    "    flat = vals.fifetten()\n",
    "    flat.sort()\n",
    "    req_tfidf = flat[-2]\n",
    "    if(req_tfidf==0):\n",
    "        robo1_response=robol_response+\"I am sorry! I don't understand you\"\n",
    "        return robol_response\n",
    "    else:\n",
    "        robo1_response = robol_response+sent_tokens[idx]\n",
    "        return robo1_response"
   ]
  },
  {
   "cell_type": "code",
   "execution_count": null,
   "id": "74e814ce",
   "metadata": {},
   "outputs": [],
   "source": [
    "flag=-True\n",
    "print(\"BOT: My name is Stark. Let's have a conversation! Also, if you want to exit any time, just type Bye!”)\n",
    "while(flag==True):\n",
    "user_response = input()\n",
    "user_response=user_response. lower()\n",
    "if(user_response!='bye\"):\n",
    "if(user_response==\"thanks’ or user_response==\"thank you\" ):\n",
    "flag-False\n",
    "print(\"BOT: You are welcome..\") \n",
    "   else:\n",
    "if (greet(user_response) !=None):\n",
    "print(\"B0T: “+greet(user_response) )\n",
    "else:\n",
    "sent_tokens.append(user_response)\n",
    "\n",
    " \n",
    "   \n",
    "   word_tokens=word_tokens+nltk.word_tokenize(user_response)\n",
    "final_words=list(set(word_tokens) )\n",
    "print(\"BoT: “,end=\"\")\n",
    "print(response(user_response))\n",
    "sent_tokens.remove(user_response)\n",
    "\n",
    "else:\n",
    "\n",
    "flag-False\n",
    "print(\"B0T: Goodbye! Take care <3 \")"
   ]
  }
 ],
 "metadata": {
  "kernelspec": {
   "display_name": "Python 3 (ipykernel)",
   "language": "python",
   "name": "python3"
  },
  "language_info": {
   "codemirror_mode": {
    "name": "ipython",
    "version": 3
   },
   "file_extension": ".py",
   "mimetype": "text/x-python",
   "name": "python",
   "nbconvert_exporter": "python",
   "pygments_lexer": "ipython3",
   "version": "3.9.12"
  }
 },
 "nbformat": 4,
 "nbformat_minor": 5
}
